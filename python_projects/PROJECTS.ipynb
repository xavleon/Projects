{
 "cells": [
  {
   "cell_type": "markdown",
   "metadata": {},
   "source": [
    "# YouTube - Video & mp3 Downloader"
   ]
  },
  {
   "cell_type": "code",
   "execution_count": null,
   "metadata": {},
   "outputs": [],
   "source": [
    "from pytube import YouTube\n",
    "#https://www.youtube.com/watch?v=Pa-veF_jXEE&list=RD5hVfxEc6WyY&index=5\n",
    "from skimage import util\n",
    "from pydub import AudioSegment\n",
    "from pydub.playback import play\n",
    "\n",
    "from scipy.io import wavfile\n",
    "from tempfile import mktemp\n",
    "\n",
    "import numpy as np\n",
    "\n",
    "from moviepy.editor import  *\n",
    "\n",
    "yt = YouTube(\"https://www.youtube.com/watch?v=wKnS8VPxpHI\")\n",
    "stream = yt.streams.first()\n",
    "stream.download(filename = \"nature\")\n",
    "\n",
    "videoClip = VideoFileClip('nature.mp4')\n",
    "audioClip = videoClip.audio\n",
    "audioClip.write_audiofile('nature.mp3')\n",
    "audioClip.close()\n",
    "videoClip.close()"
   ]
  },
  {
   "cell_type": "markdown",
   "metadata": {},
   "source": [
    "# Photo Manipulation - Shift"
   ]
  },
  {
   "cell_type": "code",
   "execution_count": 6,
   "metadata": {},
   "outputs": [],
   "source": [
    "import numpy as np\n",
    "import cv2\n",
    "\n",
    "def shift(image, num_chunk):\n",
    "    d0 = image.shape[0]\n",
    "    d1 = image.shape[1]\n",
    "    d2 = image.shape[2]\n",
    "    temp_data = np.zeros((int(d0/num_chunk), d1, d2))\n",
    "\n",
    "    for i in range(int(d0/num_chunk)):\n",
    "        for j in range(d1):\n",
    "            temp_data[i][j] = image[i][j]\n",
    "\n",
    "    for t in range(num_chunk-1):\n",
    "        for i in range(int(d0/num_chunk)):\n",
    "            for j in range(d1):\n",
    "                image[i+t*int(d0/num_chunk)][j] = image[i+(t+1)*int(d0/num_chunk)][j]\n",
    "\n",
    "    for i in range(int(d0/num_chunk)):\n",
    "        for j in range(d1):\n",
    "            image[i+int(d0/num_chunk)*(num_chunk-1)][j] = temp_data[i][j]\n",
    "    return image\n",
    "\n",
    "\n",
    "\n",
    "\n",
    "image = cv2.imread('Lena.png')\n",
    "\n",
    "#print(image.shape)\n",
    "#print(image.shape[0], image.shape[1], image.shape[2])\n",
    "cv2.imshow('original', image)\n",
    "\n",
    "video = cv2.VideoWriter('res.avi', cv2.VideoWriter_fourcc(*'DIVX'), fps=5, frameSize=(image.shape[0], image.shape[1]))\n",
    "\n",
    "num_chunk = 32\n",
    "for val in range(num_chunk):\n",
    "    video.write(image)\n",
    "    #filename = 'Lena_%d.png' % val\n",
    "    #cv2.imwrite(filename, image)\n",
    "    image = shift(image, num_chunk)\n",
    "    \n",
    "video.release()\n",
    "#cv2.imshow(\"pic\", image)\n",
    "#cv2.waitKey()"
   ]
  },
  {
   "cell_type": "markdown",
   "metadata": {},
   "source": [
    "# Bulk File Rename Application\n",
    "\n",
    "1. Take the `files` folder.\n",
    "2. Parse every files within the folder.\n",
    "3. Take out every number within the file names.\n",
    "4. Rename every file while keeping the parsed number.\n",
    "\n",
    "**Important Note**: _if the files contain numbers in the middle, they will get parsed too. To bypass this behavior set `use_every` to `True`._"
   ]
  },
  {
   "cell_type": "code",
   "execution_count": 2,
   "metadata": {},
   "outputs": [
    {
     "name": "stdout",
     "output_type": "stream",
     "text": [
      "afj434kajdklfj.pdf file_434.pdf\n",
      "dkjfasdf3fa.pdf file_3.pdf\n",
      "fjaskldfjas08974.pdf file_08974.pdf\n"
     ]
    }
   ],
   "source": [
    "import os\n",
    "\n",
    "path = \"./files/\"\n",
    "files = os.listdir(path)\n",
    "\n",
    "use_every = False\n",
    "replacement_word = \"file_\"\n",
    "\n",
    "for name in files:\n",
    "    filename, file_extension = os.path.splitext(name)\n",
    "    number = \"\"\n",
    "    numbers = []\n",
    "    for letter in name:\n",
    "        if letter.isdigit():\n",
    "            number = number + letter\n",
    "        else:\n",
    "            if (number != \"\"):\n",
    "                numbers.append(number)\n",
    "            number = \"\"\n",
    "    if (use_every):\n",
    "        res = ''.join(str(elem) for elem in numbers)\n",
    "    else:\n",
    "        res = numbers[-1]\n",
    "    new_name = replacement_word + res + file_extension\n",
    "    print(name, new_name)\n",
    "    os.rename(path + name, path + new_name)"
   ]
  },
  {
   "cell_type": "code",
   "execution_count": null,
   "metadata": {},
   "outputs": [],
   "source": []
  }
 ],
 "metadata": {
  "kernelspec": {
   "display_name": "Python 3",
   "language": "python",
   "name": "python3"
  },
  "language_info": {
   "codemirror_mode": {
    "name": "ipython",
    "version": 3
   },
   "file_extension": ".py",
   "mimetype": "text/x-python",
   "name": "python",
   "nbconvert_exporter": "python",
   "pygments_lexer": "ipython3",
   "version": "3.8.5"
  }
 },
 "nbformat": 4,
 "nbformat_minor": 4
}
